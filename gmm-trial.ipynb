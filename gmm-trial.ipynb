{
  "nbformat": 4,
  "nbformat_minor": 0,
  "metadata": {
    "colab": {
      "provenance": [],
      "collapsed_sections": []
    },
    "kernelspec": {
      "name": "python3",
      "display_name": "Python 3"
    },
    "language_info": {
      "name": "python"
    }
  },
  "cells": [
    {
      "cell_type": "code",
      "execution_count": 119,
      "metadata": {
        "id": "asXCbKTZunOf"
      },
      "outputs": [],
      "source": [
        "import numpy as np\n",
        "import matplotlib.pyplot as plt\n",
        "from scipy import linalg"
      ]
    },
    {
      "cell_type": "code",
      "source": [
        "# Initialize Gaussian function\n",
        "def gaussian(x, mean, cov):\n",
        "  exponent = np.dot(x - mean, np.linalg.inv(cov) @ (x - mean)) / 2\n",
        "  # norm = 1 / np.sqrt((2 * np.pi)**(len(mean) * np.linalg.det(cov)))\n",
        "  norm = 1\n",
        "  # norm = 1 / np.sqrt((2 * np.pi)**(len(mean) * linalg.det(cov)))\n",
        "\n",
        "  return norm * np.exp(- exponent)"
      ],
      "metadata": {
        "id": "D5WwLPDOwswL"
      },
      "execution_count": 174,
      "outputs": []
    },
    {
      "cell_type": "code",
      "source": [
        "# Try to generate data\n",
        "dist1 = np.random.multivariate_normal([1, 2], [[1, 0], [0, 1]], 500)\n",
        "dist2 = np.random.multivariate_normal([5, 7], [[2, 0], [0, 5]], 500)\n",
        "\n",
        "# Append the data in one array\n",
        "data = []\n",
        "for i in dist1:\n",
        "  data.append(i)\n",
        "for i in dist2:\n",
        "  data.append(i)\n",
        "\n",
        "# Transform into an array\n",
        "data = np.array(data)"
      ],
      "metadata": {
        "id": "L32frf4Hxipf"
      },
      "execution_count": 4,
      "outputs": []
    },
    {
      "cell_type": "code",
      "source": [
        "# Gaussian Mixture Model\n",
        "\n",
        "# Dimension of the data\n",
        "d = 2\n",
        "\n",
        "# Number of Gaussian distributions in the dataset\n",
        "k = 2\n",
        "\n",
        "# Length of data\n",
        "N = len(data)\n",
        "\n",
        "# Initialize parameters\n",
        "pi = np.random.rand(k)\n",
        "mu = np.random.rand(k, d)\n",
        "sigma = np.random.rand(k, d, d)\n",
        "r_points = np.zeros((k, N))\n",
        "\n",
        "iter = 0\n",
        "iterations = 2\n",
        "\n",
        "while iter < iterations:\n",
        "  for index1 in range(N):\n",
        "    denom_r = 0\n",
        "    for index2, (pi_j, mu_j, sigma_j) in enumerate(zip(pi, mu, sigma)):\n",
        "      # gauss = multivariate_normal(mu_j, sigma_j).pdf\n",
        "      datapoints = np.random.multivariate_normal(mu_j, sigma_j, 10000)\n",
        "      norm = np.linalg.norm(datapoints)\n",
        "      denom_r += gaussian(data[index1], mu_j, sigma_j) / norm\n",
        "      r_points[index2, index1] = pi_j * gaussian(data[index1], mu_j, sigma_j) / norm\n",
        "      \n",
        "  m = np.sum(r_points, axis = 1)\n",
        "  pi = m / N\n",
        "  mu = (r_points @ data) / m\n",
        "  vec = data - mu[:, np.newaxis]\n",
        "  sigma = np.array([np.transpose(r_points[c, :, np.newaxis] * vec[c]) @ vec[c] for c in range(k)])\n",
        "\n",
        "  iter += 1"
      ],
      "metadata": {
        "colab": {
          "base_uri": "https://localhost:8080/"
        },
        "id": "Y5dZFIvXyQ5O",
        "outputId": "dd8e6e4e-6970-4f4c-bdb6-70b8da0ba150"
      },
      "execution_count": 187,
      "outputs": [
        {
          "output_type": "stream",
          "name": "stderr",
          "text": [
            "/usr/local/lib/python3.7/dist-packages/ipykernel_launcher.py:26: RuntimeWarning: covariance is not positive-semidefinite.\n"
          ]
        }
      ]
    },
    {
      "cell_type": "code",
      "source": [
        "mu"
      ],
      "metadata": {
        "colab": {
          "base_uri": "https://localhost:8080/"
        },
        "id": "d-TQTtt71I-6",
        "outputId": "283b6893-cf79-4c7e-f3d8-518cb59940fa"
      },
      "execution_count": 188,
      "outputs": [
        {
          "output_type": "execute_result",
          "data": {
            "text/plain": [
              "array([[3.09577818e+00, 8.56466346e-34],\n",
              "       [1.22690915e+33, 1.18414146e+00]])"
            ]
          },
          "metadata": {},
          "execution_count": 188
        }
      ]
    },
    {
      "cell_type": "code",
      "source": [
        "plt.plot(data[:, 0], data[:, 1], \"go\")\n",
        "plt.plot(mu[0, 0], mu[0, 1], \"ro\")\n",
        "# plt.plot(mu[1, 0], mu[1, 1], \"ro\")\n",
        "plt.show()"
      ],
      "metadata": {
        "colab": {
          "base_uri": "https://localhost:8080/",
          "height": 265
        },
        "id": "SjviI2Fs1QJI",
        "outputId": "4931e002-e30a-4a1c-aada-8c337494a742"
      },
      "execution_count": 190,
      "outputs": [
        {
          "output_type": "display_data",
          "data": {
            "text/plain": [
              "<Figure size 432x288 with 1 Axes>"
            ],
            "image/png": "[encoded data removed]"
          },
          "metadata": {
            "needs_background": "light"
          }
        }
      ]
    }
  ]
}